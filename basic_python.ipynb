{
  "nbformat": 4,
  "nbformat_minor": 0,
  "metadata": {
    "colab": {
      "provenance": [],
      "authorship_tag": "ABX9TyMYJUY+Uf/AyhC8nZntORHb",
      "include_colab_link": true
    },
    "kernelspec": {
      "name": "python3",
      "display_name": "Python 3"
    },
    "language_info": {
      "name": "python"
    }
  },
  "cells": [
    {
      "cell_type": "markdown",
      "metadata": {
        "id": "view-in-github",
        "colab_type": "text"
      },
      "source": [
        "<a href=\"https://colab.research.google.com/github/Sreelekshmim123/DataPreprocessing/blob/main/basic_python.ipynb\" target=\"_parent\"><img src=\"https://colab.research.google.com/assets/colab-badge.svg\" alt=\"Open In Colab\"/></a>"
      ]
    },
    {
      "cell_type": "markdown",
      "source": [
        "*voting system*"
      ],
      "metadata": {
        "id": "A297tcq32K-b"
      }
    },
    {
      "cell_type": "markdown",
      "source": [
        "Method 1"
      ],
      "metadata": {
        "id": "nXr1TF2R3MtY"
      }
    },
    {
      "cell_type": "code",
      "execution_count": 2,
      "metadata": {
        "colab": {
          "base_uri": "https://localhost:8080/"
        },
        "id": "x-f2HpWf2KDL",
        "outputId": "dcaa5bb5-8610-430c-8581-05e5b1c9b241"
      },
      "outputs": [
        {
          "output_type": "stream",
          "name": "stdout",
          "text": [
            "insert your age:16\n",
            "can't vote\n"
          ]
        }
      ],
      "source": [
        "age = int(input(\"insert your age:\"))\n",
        "if age >= 18:\n",
        "    print(\"vote\")\n",
        "else:\n",
        "  print(\"can't vote\")"
      ]
    },
    {
      "cell_type": "markdown",
      "source": [
        "Method 2"
      ],
      "metadata": {
        "id": "WzJM_JRQ3O14"
      }
    },
    {
      "cell_type": "code",
      "source": [
        "age = int(input(\"insert your age:\"))\n",
        "print(\"vote\") if age>=18 else print(\"can't vote\")"
      ],
      "metadata": {
        "colab": {
          "base_uri": "https://localhost:8080/"
        },
        "id": "YvLVuNDR2jQ6",
        "outputId": "43b32457-0206-4be0-ef61-eac5ab065cdb"
      },
      "execution_count": 3,
      "outputs": [
        {
          "output_type": "stream",
          "name": "stdout",
          "text": [
            "insert your age:55\n",
            "vote\n"
          ]
        }
      ]
    },
    {
      "cell_type": "markdown",
      "source": [
        "Method 3"
      ],
      "metadata": {
        "id": "okeICEko3RIu"
      }
    },
    {
      "cell_type": "code",
      "source": [
        "age = int(input(\"Insert your age:\"))\n",
        "\n",
        "result = \"Vote\" if age >= 18 else \"Can not vote\"\n",
        "\n",
        "print(result)"
      ],
      "metadata": {
        "colab": {
          "base_uri": "https://localhost:8080/"
        },
        "id": "wpUPVkTk26Kn",
        "outputId": "a306a067-8af5-4c9a-88d3-13e973e82879"
      },
      "execution_count": 4,
      "outputs": [
        {
          "output_type": "stream",
          "name": "stdout",
          "text": [
            "Insert your age:18\n",
            "Vote\n"
          ]
        }
      ]
    },
    {
      "cell_type": "markdown",
      "source": [
        "Positive/Negative number program"
      ],
      "metadata": {
        "id": "_bCMIRki3aFP"
      }
    },
    {
      "cell_type": "markdown",
      "source": [
        "Method 1"
      ],
      "metadata": {
        "id": "_UFdhnKk4QRC"
      }
    },
    {
      "cell_type": "code",
      "source": [
        "num = int(input(\"insert a number:\"))\n",
        "if num>0:\n",
        "  print(\"The number is positive\")\n",
        "elif num<0:\n",
        "  print(\"The number is negative\")\n",
        "else:\n",
        "  print(\"The number is zero\")"
      ],
      "metadata": {
        "colab": {
          "base_uri": "https://localhost:8080/"
        },
        "id": "QfZ8jJub3JVs",
        "outputId": "ab51a75c-8f62-4ddc-cd33-1ed2ed17bf67"
      },
      "execution_count": 5,
      "outputs": [
        {
          "output_type": "stream",
          "name": "stdout",
          "text": [
            "insert a number:-20\n",
            "The number is negative\n"
          ]
        }
      ]
    },
    {
      "cell_type": "markdown",
      "source": [
        "Method 2"
      ],
      "metadata": {
        "id": "IJTZSZzD6-EL"
      }
    },
    {
      "cell_type": "code",
      "source": [
        "num = int(input(\"insert a number:\"))\n",
        "if num>=0:\n",
        "  if num == 0:\n",
        "    print(\"zero\")\n",
        "  else:\n",
        "    print(\"positive\")\n",
        "else:\n",
        "  print(\"negative\")"
      ],
      "metadata": {
        "colab": {
          "base_uri": "https://localhost:8080/"
        },
        "id": "EaYiTcYe38YQ",
        "outputId": "2467dd29-d717-4153-c694-19ce472b6dae"
      },
      "execution_count": 6,
      "outputs": [
        {
          "output_type": "stream",
          "name": "stdout",
          "text": [
            "insert a number:20\n",
            "positive\n"
          ]
        }
      ]
    },
    {
      "cell_type": "markdown",
      "source": [
        "Method 3"
      ],
      "metadata": {
        "id": "K9yvcLnb7AfF"
      }
    },
    {
      "cell_type": "code",
      "source": [
        "num = int(input(\"Insert a number:\"))\n",
        "if num == 0:\n",
        "    print(\"Zero\")\n",
        "else:\n",
        "    result = \"Positive\" if num > 0 else \"Negative\"\n",
        "    print(result)"
      ],
      "metadata": {
        "colab": {
          "base_uri": "https://localhost:8080/"
        },
        "id": "AAo44cpM4uK1",
        "outputId": "38c52aa8-5714-471b-d237-183f16185c43"
      },
      "execution_count": 7,
      "outputs": [
        {
          "output_type": "stream",
          "name": "stdout",
          "text": [
            "Insert a number:0\n",
            "Zero\n"
          ]
        }
      ]
    },
    {
      "cell_type": "markdown",
      "source": [
        "Printing all operations"
      ],
      "metadata": {
        "id": "49KMkGrV8XpF"
      }
    },
    {
      "cell_type": "code",
      "source": [
        "a = int(input(\"Enter the first number\"))\n",
        "b = int(input(\"Enter the second number\"))\n",
        "sum = a+b\n",
        "sub = a-b\n",
        "mul = a*b\n",
        "div = a/b\n",
        "flor = a//b\n",
        "print(\"The sum is\",sum)\n",
        "print(\"The sub is\",sub)\n",
        "print(\"The mul is\",mul)\n",
        "print(\"The div is\",div)\n",
        "print(\"The flor is\",flor)"
      ],
      "metadata": {
        "colab": {
          "base_uri": "https://localhost:8080/"
        },
        "id": "o-x5JN9F66ZP",
        "outputId": "2c2e8d48-208d-472f-b317-db678300b161"
      },
      "execution_count": 9,
      "outputs": [
        {
          "output_type": "stream",
          "name": "stdout",
          "text": [
            "Enter the first number12\n",
            "Enter the second number-9\n",
            "The sum is 3\n",
            "The sub is 21\n",
            "The mul is -108\n",
            "The div is -1.3333333333333333\n",
            "The flor is -2\n"
          ]
        }
      ]
    },
    {
      "cell_type": "markdown",
      "source": [
        "Number is Even / Odd"
      ],
      "metadata": {
        "id": "AUjjgFwF9a_l"
      }
    },
    {
      "cell_type": "markdown",
      "source": [
        "Method 1"
      ],
      "metadata": {
        "id": "6eWJFpAc-Yn5"
      }
    },
    {
      "cell_type": "code",
      "source": [
        "num =  int(input(\"Enter a number\"))\n",
        "if num % 2 == 0:\n",
        "  print(\"number is even\")\n",
        "else:\n",
        "  print(\"number is odd\")"
      ],
      "metadata": {
        "colab": {
          "base_uri": "https://localhost:8080/"
        },
        "id": "1HxBLIRP8-xz",
        "outputId": "9a3436b7-c1a9-4ed2-d4e4-43e03ebbc854"
      },
      "execution_count": 10,
      "outputs": [
        {
          "output_type": "stream",
          "name": "stdout",
          "text": [
            "Enter a number2697\n",
            "number is odd\n"
          ]
        }
      ]
    },
    {
      "cell_type": "markdown",
      "source": [
        "Method 2"
      ],
      "metadata": {
        "id": "BnVLAEOT-a44"
      }
    },
    {
      "cell_type": "markdown",
      "source": [
        "Method 2"
      ],
      "metadata": {
        "id": "hg_gyeMz-p3m"
      }
    },
    {
      "cell_type": "code",
      "source": [
        "num = int(input(\"Enter a Number:\"))\n",
        "\n",
        "result = \"Even\" if num % 2 == 0 else \"Odd\"\n",
        "print(result)"
      ],
      "metadata": {
        "colab": {
          "base_uri": "https://localhost:8080/"
        },
        "id": "gHwNJPI5-DH_",
        "outputId": "d8068ba9-76af-4a37-88a9-a0d285845fbc"
      },
      "execution_count": 11,
      "outputs": [
        {
          "output_type": "stream",
          "name": "stdout",
          "text": [
            "Enter a Number:254756312\n",
            "Even\n"
          ]
        }
      ]
    },
    {
      "cell_type": "markdown",
      "source": [
        "Method 3"
      ],
      "metadata": {
        "id": "b6gZe6T0-rbP"
      }
    },
    {
      "cell_type": "code",
      "source": [
        "def isEven(num):\n",
        "\n",
        "    # n&1 is 1, then odd, else even\n",
        "    return not(num & 1)\n",
        "\n",
        "\n",
        "num = int(input(\"Insert a number:\"))\n",
        "print(\"Even\" if isEven(num) else \"Odd\")"
      ],
      "metadata": {
        "colab": {
          "base_uri": "https://localhost:8080/"
        },
        "id": "YU6KA9CS-gGn",
        "outputId": "fde5ee17-3756-4d46-dfb0-2d8bfed535c2"
      },
      "execution_count": 12,
      "outputs": [
        {
          "output_type": "stream",
          "name": "stdout",
          "text": [
            "Insert a number:1223565656644\n",
            "Even\n"
          ]
        }
      ]
    },
    {
      "cell_type": "markdown",
      "source": [
        "Grading Scheme"
      ],
      "metadata": {
        "id": "aJcSrO3mGAde"
      }
    },
    {
      "cell_type": "markdown",
      "source": [
        "Method 1"
      ],
      "metadata": {
        "id": "i6KhWNwiGRDd"
      }
    },
    {
      "cell_type": "code",
      "source": [
        "marks = int(input(\"Enter your marks\"))\n",
        "if marks < 0 or marks > 100:\n",
        "  print(\"Invalid marks\")\n",
        "elif marks < 50:\n",
        "  print(\"F\")\n",
        "elif marks >=50 and marks <60:\n",
        "  print(\"D\")\n",
        "elif marks >=60 and marks <70:\n",
        "  print(\"C\")\n",
        "elif marks >=70 and marks <80:\n",
        "  print(\"B\")\n",
        "elif marks >=80 and marks <90:\n",
        "  print(\"A\")\n",
        "else:\n",
        "  print(\"A+\")\n"
      ],
      "metadata": {
        "colab": {
          "base_uri": "https://localhost:8080/"
        },
        "id": "oHz90nw2-nP5",
        "outputId": "8e7689b8-63f2-4f9f-aea9-74469bd6778a"
      },
      "execution_count": 13,
      "outputs": [
        {
          "output_type": "stream",
          "name": "stdout",
          "text": [
            "Enter your marks65\n",
            "C\n"
          ]
        }
      ]
    },
    {
      "cell_type": "code",
      "source": [
        "marks=int(input(\"Enter your marks: \"))\n",
        "if marks<0 or marks>100:\n",
        "  print(\"invalid\")\n",
        "elif marks<50:\n",
        "  print(\"Grade F\")\n",
        "elif marks<60:\n",
        "  print(\"Grade D\")\n",
        "elif marks<70:\n",
        "  print(\"Grade C\")\n",
        "elif marks<80:\n",
        "  print(\"Grade B\")\n",
        "elif marks<90:\n",
        "  print(\"Grade A\")\n",
        "else:\n",
        "  print(\"Grade A+\")"
      ],
      "metadata": {
        "colab": {
          "base_uri": "https://localhost:8080/"
        },
        "id": "lNWD8yd0HACQ",
        "outputId": "b2b9baf3-e094-499c-f9f4-7feaa729e10a"
      },
      "execution_count": 16,
      "outputs": [
        {
          "output_type": "stream",
          "name": "stdout",
          "text": [
            "Enter your marks: 12\n",
            "Grade F\n"
          ]
        }
      ]
    },
    {
      "cell_type": "markdown",
      "source": [
        "Roun off number"
      ],
      "metadata": {
        "id": "PFYaKFG2IEVD"
      }
    },
    {
      "cell_type": "code",
      "source": [
        "import math\n",
        "\n",
        "n = float(input(\"Insert a number:\"))\n",
        "print(math.ceil(n))\n",
        "print(math.floor(n))\n",
        "print(round(n))"
      ],
      "metadata": {
        "colab": {
          "base_uri": "https://localhost:8080/"
        },
        "id": "xwfNVc4bHLXF",
        "outputId": "c7510957-f226-4c96-8505-4ccc19b69719"
      },
      "execution_count": 18,
      "outputs": [
        {
          "output_type": "stream",
          "name": "stdout",
          "text": [
            "Insert a number:2.325\n",
            "3\n",
            "2\n",
            "2\n"
          ]
        }
      ]
    },
    {
      "cell_type": "markdown",
      "source": [
        "Square root and cube root"
      ],
      "metadata": {
        "id": "oYq5P6lRIUH1"
      }
    },
    {
      "cell_type": "code",
      "source": [
        "import math\n",
        "a = int(input(\"Enter first number: \"))\n",
        "b  = int(input(\"Enter second number: \"))\n",
        "c = int(input(\"Enter third number: \"))\n",
        "sqroot = math.sqrt(a)\n",
        "square = b**2\n",
        "cuberoot = c**(1/6)\n",
        "print(\"Square root\",sqroot)\n",
        "print(\"Square\",square)\n",
        "print(\"Cube root\",cuberoot)"
      ],
      "metadata": {
        "colab": {
          "base_uri": "https://localhost:8080/"
        },
        "id": "_MG8qHDiHtL8",
        "outputId": "1949932a-c249-41ea-e60c-18082e356429"
      },
      "execution_count": 20,
      "outputs": [
        {
          "output_type": "stream",
          "name": "stdout",
          "text": [
            "Enter first number: 12\n",
            "Enter second number: 15\n",
            "Enter third number: 46\n",
            "Square root 3.4641016151377544\n",
            "Square 225\n",
            "Cube root 1.892894046431534\n"
          ]
        }
      ]
    },
    {
      "cell_type": "markdown",
      "source": [
        "Multiplication table"
      ],
      "metadata": {
        "id": "3cE4-MagJJG6"
      }
    },
    {
      "cell_type": "code",
      "source": [
        "num = int(input(\"Enter the number\"))\n",
        "print(\"Multiplication table of \",num)\n",
        "for i in range(1,11):\n",
        "  print(num,'x',i,'=',num*i)"
      ],
      "metadata": {
        "colab": {
          "base_uri": "https://localhost:8080/"
        },
        "id": "jLBAtSkMI8BN",
        "outputId": "c2aca41e-bbd1-453e-bc5f-e67dae612720"
      },
      "execution_count": 21,
      "outputs": [
        {
          "output_type": "stream",
          "name": "stdout",
          "text": [
            "Enter the number12\n",
            "Multiplication table of  12\n",
            "12 x 1 = 12\n",
            "12 x 2 = 24\n",
            "12 x 3 = 36\n",
            "12 x 4 = 48\n",
            "12 x 5 = 60\n",
            "12 x 6 = 72\n",
            "12 x 7 = 84\n",
            "12 x 8 = 96\n",
            "12 x 9 = 108\n",
            "12 x 10 = 120\n"
          ]
        }
      ]
    },
    {
      "cell_type": "markdown",
      "source": [
        "Greatest of two numers"
      ],
      "metadata": {
        "id": "JdODUBODKCYH"
      }
    },
    {
      "cell_type": "code",
      "source": [
        "first = int(input(\"Enter first number:\"))\n",
        "second = int(input(\"Enter second number:\"))\n",
        "\n",
        "if first == second:\n",
        "    print(\"Both are Equal\")\n",
        "elif first > second:\n",
        "    print(first, \" is Greater\")\n",
        "else:\n",
        "    print(second, \" is Greater\")"
      ],
      "metadata": {
        "colab": {
          "base_uri": "https://localhost:8080/"
        },
        "id": "mTXenpfeJ9ps",
        "outputId": "392ca50d-6646-47f4-cc92-be6bcbbba0e4"
      },
      "execution_count": 26,
      "outputs": [
        {
          "output_type": "stream",
          "name": "stdout",
          "text": [
            "Enter first number:4546546546\n",
            "Enter second number:5665465465\n",
            "5665465465  is Greater\n"
          ]
        }
      ]
    },
    {
      "cell_type": "markdown",
      "source": [
        "Greatest 3 number"
      ],
      "metadata": {
        "id": "YMzd57POKp9T"
      }
    },
    {
      "cell_type": "code",
      "source": [
        "first = int(input(\"Enter first number:\"))\n",
        "second = int(input(\"Enter second number:\"))\n",
        "third = int(input(\"Enter third number:\"))\n",
        "\n",
        "temp = first if first > second else second\n",
        "\n",
        "result = temp if temp > third else third\n",
        "print(result , \" is the greatest\")"
      ],
      "metadata": {
        "colab": {
          "base_uri": "https://localhost:8080/"
        },
        "id": "1Wg-DYfFKQ1x",
        "outputId": "d5a9f892-2e80-4132-db4a-d0026e97d730"
      },
      "execution_count": 28,
      "outputs": [
        {
          "output_type": "stream",
          "name": "stdout",
          "text": [
            "Enter first number:6546546546\n",
            "Enter second number:465465464\n",
            "Enter third number:3463554545454\n",
            "3463554545454  is the greatest\n"
          ]
        }
      ]
    },
    {
      "cell_type": "markdown",
      "source": [
        "N power of number"
      ],
      "metadata": {
        "id": "0WWc6J0gK_qL"
      }
    },
    {
      "cell_type": "markdown",
      "source": [
        "Method 1 by usung inbuilt functions"
      ],
      "metadata": {
        "id": "rYnDv9-0LRip"
      }
    },
    {
      "cell_type": "code",
      "source": [
        "base = float(input(\"Enter the base: \"))\n",
        "expo = float(input(\"Enter the exponent: \"))\n",
        "result = pow(base,expo)\n",
        "print(result)"
      ],
      "metadata": {
        "colab": {
          "base_uri": "https://localhost:8080/"
        },
        "id": "dtgDdq_3Kxxt",
        "outputId": "19cfb423-1cad-496f-9a0a-5fa695583617"
      },
      "execution_count": 29,
      "outputs": [
        {
          "output_type": "stream",
          "name": "stdout",
          "text": [
            "Enter the base: 12\n",
            "Enter the exponent: 2\n",
            "144.0\n"
          ]
        }
      ]
    },
    {
      "cell_type": "markdown",
      "source": [
        "Method 2"
      ],
      "metadata": {
        "id": "GVM5WG2YLnHy"
      }
    },
    {
      "cell_type": "code",
      "source": [
        "base = float(input(\"Enter the base: \"))\n",
        "expo = float(input(\"Enter the exponent: \"))\n",
        "result = 1\n",
        "while expo!=0:\n",
        "  result = result*base\n",
        "  expo = expo-1\n",
        "print(result)"
      ],
      "metadata": {
        "colab": {
          "base_uri": "https://localhost:8080/"
        },
        "id": "Ej3bQOuLLjQQ",
        "outputId": "08b4a37e-ef2e-4a6c-9ac3-5fb252c322ba"
      },
      "execution_count": 31,
      "outputs": [
        {
          "output_type": "stream",
          "name": "stdout",
          "text": [
            "Enter the base: 5\n",
            "Enter the exponent: 3\n",
            "125.0\n"
          ]
        }
      ]
    },
    {
      "cell_type": "markdown",
      "source": [
        "**Break statement**"
      ],
      "metadata": {
        "id": "Bfh9Ny_QMK4c"
      }
    },
    {
      "cell_type": "markdown",
      "source": [
        "***Problem Statement***"
      ],
      "metadata": {
        "id": "-liwdAbMMoKT"
      }
    },
    {
      "cell_type": "markdown",
      "source": [
        "\n",
        "Write a program to print all numbers between two intervals, namely low and high. But, with a special condition that if any number in the range while getting printed becomes divisible by 13 then you must not print anything further and stop. (Do this using the Break Statement)\n",
        "\n",
        "\n",
        "Example -\n",
        "\n",
        "Input -\n",
        "\n",
        "1 10\n",
        "\n",
        "Output\n",
        "\n",
        "1 2 3 4 5 6 7 8 9 10"
      ],
      "metadata": {
        "id": "knAbxD9GMemN"
      }
    },
    {
      "cell_type": "code",
      "source": [
        "low = int(input(\"Enter the lower limit\"))\n",
        "high = int(input(\"Enter the higher limit\"))\n",
        "for i in range(low,high+1):\n",
        "  print(i,end=\" \")\n",
        "  if i%13 == 0:\n",
        "    break\n"
      ],
      "metadata": {
        "colab": {
          "base_uri": "https://localhost:8080/"
        },
        "id": "ituayOFSL63M",
        "outputId": "d07fcafd-c742-492b-d8e8-74eabd9f5387"
      },
      "execution_count": 34,
      "outputs": [
        {
          "output_type": "stream",
          "name": "stdout",
          "text": [
            "Enter the lower limit-18\n",
            "Enter the higher limit0\n",
            "-18 -17 -16 -15 -14 -13 "
          ]
        }
      ]
    },
    {
      "cell_type": "markdown",
      "source": [
        "**Continue statement**"
      ],
      "metadata": {
        "id": "VGIyljIdOJzg"
      }
    },
    {
      "cell_type": "markdown",
      "source": [
        "Problem Statement"
      ],
      "metadata": {
        "id": "jS82CgwtOTVF"
      }
    },
    {
      "cell_type": "markdown",
      "source": [
        "Write a program to print all numbers between two intervals, namely low and high. But, with a special condition that numbers divisible by 5 must not be printed and skipped. (Do this using continue Statement)\n",
        "\n",
        "Sample Input\n",
        "\n",
        "1 10\n",
        "\n",
        "Sample Output\n",
        "\n",
        "1 2 3 4 6 7 8 9"
      ],
      "metadata": {
        "id": "zZfJ4FisOUTD"
      }
    },
    {
      "cell_type": "code",
      "source": [
        "low = int(input(\"Enter the lower limit\"))\n",
        "high = int(input(\"Enter the higher limit\"))\n",
        "for i in range(low,high+1):\n",
        "  if i%5 == 0:\n",
        "    continue\n",
        "  print(i,end=\" \")"
      ],
      "metadata": {
        "colab": {
          "base_uri": "https://localhost:8080/"
        },
        "id": "nzhMHTAmNqG9",
        "outputId": "f679d4e6-74cb-4c94-c214-45164636bf5b"
      },
      "execution_count": 35,
      "outputs": [
        {
          "output_type": "stream",
          "name": "stdout",
          "text": [
            "Enter the lower limit1\n",
            "Enter the higher limit10\n",
            "1 2 3 4 6 7 8 9 "
          ]
        }
      ]
    },
    {
      "cell_type": "markdown",
      "source": [
        "Implement 1D array"
      ],
      "metadata": {
        "id": "PR-20okGO5_9"
      }
    },
    {
      "cell_type": "code",
      "source": [
        "num = int(input(\"Enter the size of array: \"))\n",
        "arr = []\n",
        "for i in range(num):\n",
        "  arr.append(int(input()))\n",
        "print(\"The elements are : \")\n",
        "for i in range(num):\n",
        "  print(arr[i], end=\" \")"
      ],
      "metadata": {
        "colab": {
          "base_uri": "https://localhost:8080/"
        },
        "id": "jWgEkUIqOdwf",
        "outputId": "fab28902-8b8e-4da1-f59e-32fbaf0c9caa"
      },
      "execution_count": 36,
      "outputs": [
        {
          "output_type": "stream",
          "name": "stdout",
          "text": [
            "Enter the size of array: 10\n",
            "12\n",
            "5\n",
            "5\n",
            "454\n",
            "6\n",
            "32\n",
            "32\n",
            "45\n",
            "75\n",
            "56\n",
            "The elements are : \n",
            "12 5 5 454 6 32 32 45 75 56 "
          ]
        }
      ]
    },
    {
      "cell_type": "markdown",
      "source": [
        "Implement 2D array"
      ],
      "metadata": {
        "id": "qcH3ABqzPrn1"
      }
    },
    {
      "cell_type": "code",
      "source": [
        "R = int(input(\"Enter the number of rows:\"))\n",
        "C = int(input(\"Enter the number of columns:\"))\n",
        "\n",
        "# Initialize matrix\n",
        "matrix = []\n",
        "print(\"Enter the entries row-wise:\")\n",
        "\n",
        "# For user input\n",
        "for i in range(R):  # A for loop for row entries\n",
        "    a = []\n",
        "    for j in range(C):  # A for loop for column entries\n",
        "        a.append(int(input()))\n",
        "    matrix.append(a)\n",
        "\n",
        "# For printing the matrix\n",
        "for i in range(R):\n",
        "    for j in range(C):\n",
        "        print(matrix[i][j], end=\" \")\n",
        "    print()"
      ],
      "metadata": {
        "colab": {
          "base_uri": "https://localhost:8080/"
        },
        "id": "noDC_EbRPdi_",
        "outputId": "3ca4db34-44b1-407f-9d30-247fbb9e14ee"
      },
      "execution_count": 37,
      "outputs": [
        {
          "output_type": "stream",
          "name": "stdout",
          "text": [
            "Enter the number of rows:2\n",
            "Enter the number of columns:2\n",
            "Enter the entries row-wise:\n",
            "12\n",
            "15\n",
            "13\n",
            "4\n",
            "12 15 \n",
            "13 4 \n"
          ]
        }
      ]
    },
    {
      "cell_type": "code",
      "source": [],
      "metadata": {
        "id": "-xp8R_06P8ij"
      },
      "execution_count": null,
      "outputs": []
    }
  ]
}